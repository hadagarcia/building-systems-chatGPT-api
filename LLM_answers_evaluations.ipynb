{
  "nbformat": 4,
  "nbformat_minor": 0,
  "metadata": {
    "colab": {
      "provenance": [],
      "authorship_tag": "ABX9TyOeNuQ8Qd/wXW0qtlBtxaMb",
      "include_colab_link": true
    },
    "kernelspec": {
      "name": "python3",
      "display_name": "Python 3"
    },
    "language_info": {
      "name": "python"
    }
  },
  "cells": [
    {
      "cell_type": "markdown",
      "metadata": {
        "id": "view-in-github",
        "colab_type": "text"
      },
      "source": [
        "<a href=\"https://colab.research.google.com/github/hadagarcia/building-systems-chatGPT-api/blob/main/LLM_answers_evaluations.ipynb\" target=\"_parent\"><img src=\"https://colab.research.google.com/assets/colab-badge.svg\" alt=\"Open In Colab\"/></a>"
      ]
    },
    {
      "cell_type": "markdown",
      "source": [
        "**Setup:**"
      ],
      "metadata": {
        "id": "LJZrM4nB9Tji"
      }
    },
    {
      "cell_type": "code",
      "execution_count": null,
      "metadata": {
        "id": "LljuZ7hh9Cr4"
      },
      "outputs": [],
      "source": [
        "!pip install openai\n",
        "!pip install python-dotenv\n",
        "\n",
        "import openai\n",
        "import os\n",
        "from dotenv import load_dotenv, find_dotenv\n",
        "\n",
        "#Find a better way to store the key and retrieve it.\n",
        "load_dotenv('/content/sample_data/mis_llaves.env')\n",
        "openai.api_key = os.getenv('OPEN_API_KEY')"
      ]
    },
    {
      "cell_type": "code",
      "source": [
        "# Extra setup required for this Notebook\n",
        "\n",
        "import sys\n",
        "sys.path.append('/content/sample_data') # /content/sample_data/products.json"
      ],
      "metadata": {
        "id": "FZ8kyZSh-7B6"
      },
      "execution_count": 2,
      "outputs": []
    },
    {
      "cell_type": "code",
      "source": [
        "import utils\n",
        "\n",
        "# Uncomment this only if you need to reload the same file. Otherwise it won't update the changes.\n",
        "# import imp\n",
        "# imp.reload(utils)\n",
        "# !python --version\n",
        "\n",
        "import panel as pn  # GUI\n",
        "pn.extension()"
      ],
      "metadata": {
        "id": "obrO7eq3--Xa"
      },
      "execution_count": null,
      "outputs": []
    },
    {
      "cell_type": "code",
      "source": [
        "# Helper method\n",
        "\n",
        "def get_completion_from_messages(messages, model=\"gpt-3.5-turbo\", temperature=0, max_tokens=500):\n",
        "    response = openai.ChatCompletion.create(\n",
        "        model=model,\n",
        "        messages=messages,\n",
        "        temperature=temperature,\n",
        "        max_tokens=max_tokens,\n",
        "    )\n",
        "    return response.choices[0].message[\"content\"]"
      ],
      "metadata": {
        "id": "W-_40X1n_M9C"
      },
      "execution_count": 4,
      "outputs": []
    },
    {
      "cell_type": "markdown",
      "source": [
        "**Run through the end-to-end system to answer the user query**\n",
        "\n",
        "These helper functions are running the chain of promopts that you saw in the earlier videos."
      ],
      "metadata": {
        "id": "JC_31ok3_VNk"
      }
    },
    {
      "cell_type": "code",
      "source": [
        "customer_msg = f\"\"\"\n",
        "tell me about the smartx pro phone and the fotosnap camera, the dslr one.\n",
        "Also, what TVs or TV related products do you have?\"\"\"\n",
        "\n",
        "products_by_category = utils.get_products_from_query(customer_msg)\n",
        "category_and_product_list = utils.read_string_to_list(products_by_category)\n",
        "product_info = utils.get_mentioned_product_info(category_and_product_list)\n",
        "assistant_answer = utils.answer_user_msg(user_msg=customer_msg,\n",
        "                                                   product_info=product_info)"
      ],
      "metadata": {
        "id": "43zlWe3D_ZL3"
      },
      "execution_count": 5,
      "outputs": []
    },
    {
      "cell_type": "code",
      "source": [
        "print(assistant_answer)"
      ],
      "metadata": {
        "colab": {
          "base_uri": "https://localhost:8080/"
        },
        "id": "2Tgf9Pcb_mQG",
        "outputId": "73029138-8ceb-469b-96cc-5fb12a7941ef"
      },
      "execution_count": 6,
      "outputs": [
        {
          "output_type": "stream",
          "name": "stdout",
          "text": [
            "Sure, I'd be happy to help! The SmartX ProPhone is a powerful smartphone with a 6.1-inch display, 128GB storage, 12MP dual camera, and 5G capabilities. The FotoSnap DSLR Camera is a versatile camera with a 24.2MP sensor, 1080p video, 3-inch LCD, and interchangeable lenses. As for TVs, we have a variety of options including the CineView 4K TV with a 55-inch display, 4K resolution, HDR, and smart TV capabilities, the CineView 8K TV with a 65-inch display, 8K resolution, HDR, and smart TV capabilities, and the CineView OLED TV with a 55-inch display, 4K resolution, HDR, and smart TV capabilities. We also have the SoundMax Home Theater system with 5.1 channel, 1000W output, wireless subwoofer, and Bluetooth, and the SoundMax Soundbar with 2.1 channel, 300W output, wireless subwoofer, and Bluetooth. Is there anything else I can help you with?\n"
          ]
        }
      ]
    },
    {
      "cell_type": "markdown",
      "source": [
        "# Evaluate the LLM's answer to the user with a rubric, based on the extracted product information"
      ],
      "metadata": {
        "id": "Q9ReYfuZ_r3T"
      }
    },
    {
      "cell_type": "code",
      "source": [
        "cust_prod_info = {\n",
        "    'customer_msg': customer_msg,\n",
        "    'context': product_info\n",
        "}"
      ],
      "metadata": {
        "id": "TpdQAfxE_t1j"
      },
      "execution_count": 7,
      "outputs": []
    },
    {
      "cell_type": "code",
      "source": [
        "def eval_with_rubric(test_set, assistant_answer):\n",
        "\n",
        "    cust_msg = test_set['customer_msg']\n",
        "    context = test_set['context']\n",
        "    completion = assistant_answer\n",
        "\n",
        "    system_message = \"\"\"\\\n",
        "    You are an assistant that evaluates how well the customer service agent \\\n",
        "    answers a user question by looking at the context that the customer service \\\n",
        "    agent is using to generate its response.\n",
        "    \"\"\"\n",
        "\n",
        "    user_message = f\"\"\"\\\n",
        "You are evaluating a submitted answer to a question based on the context \\\n",
        "that the agent uses to answer the question.\n",
        "Here is the data:\n",
        "    [BEGIN DATA]\n",
        "    ************\n",
        "    [Question]: {cust_msg}\n",
        "    ************\n",
        "    [Context]: {context}\n",
        "    ************\n",
        "    [Submission]: {completion}\n",
        "    ************\n",
        "    [END DATA]\n",
        "\n",
        "Compare the factual content of the submitted answer with the context. \\\n",
        "Ignore any differences in style, grammar, or punctuation.\n",
        "Answer the following questions:\n",
        "    - Is the Assistant response based only on the context provided? (Y or N)\n",
        "    - Does the answer include information that is not provided in the context? (Y or N)\n",
        "    - Is there any disagreement between the response and the context? (Y or N)\n",
        "    - Count how many questions the user asked. (output a number)\n",
        "    - For each question that the user asked, is there a corresponding answer to it?\n",
        "      Question 1: (Y or N)\n",
        "      Question 2: (Y or N)\n",
        "      ...\n",
        "      Question N: (Y or N)\n",
        "    - Of the number of questions asked, how many of these questions were addressed by the answer? (output a number)\n",
        "\"\"\"\n",
        "\n",
        "    messages = [\n",
        "        {'role': 'system', 'content': system_message},\n",
        "        {'role': 'user', 'content': user_message}\n",
        "    ]\n",
        "\n",
        "    response = get_completion_from_messages(messages)\n",
        "    return response"
      ],
      "metadata": {
        "id": "3eKJHE1h_031"
      },
      "execution_count": 10,
      "outputs": []
    },
    {
      "cell_type": "markdown",
      "source": [
        "**TODO:** Checar esto mañana porque solo me salió 1 pregunta y deberían ser 2 :("
      ],
      "metadata": {
        "id": "NAVWCQZoBQOn"
      }
    },
    {
      "cell_type": "code",
      "source": [
        "evaluation_output = eval_with_rubric(cust_prod_info, assistant_answer)\n",
        "print(evaluation_output)"
      ],
      "metadata": {
        "colab": {
          "base_uri": "https://localhost:8080/"
        },
        "id": "XLmYH0lEAB0N",
        "outputId": "03660c8f-8660-4642-cfb5-6831787cb1aa"
      },
      "execution_count": 11,
      "outputs": [
        {
          "output_type": "stream",
          "name": "stdout",
          "text": [
            "- Is the Assistant response based only on the context provided? (Y or N)\n",
            "Y\n",
            "- Does the answer include information that is not provided in the context? (Y or N)\n",
            "N\n",
            "- Is there any disagreement between the response and the context? (Y or N)\n",
            "N\n",
            "- Count how many questions the user asked. (output a number)\n",
            "1\n",
            "- For each question that the user asked, is there a corresponding answer to it?\n",
            "  Question 1: Y\n",
            "- Of the number of questions asked, how many of these questions were addressed by the answer? (output a number)\n",
            "1\n"
          ]
        }
      ]
    },
    {
      "cell_type": "markdown",
      "source": [
        "# Evaluate the LLM's answer to the user based on an \"ideal\" / \"expert\" (human generated) answer."
      ],
      "metadata": {
        "id": "w_JDL3jCBcgQ"
      }
    },
    {
      "cell_type": "code",
      "source": [
        "test_set_ideal = {\n",
        "    'customer_msg': \"\"\"\\\n",
        "tell me about the smartx pro phone and the fotosnap camera, the dslr one.\n",
        "Also, what TVs or TV related products do you have?\"\"\",\n",
        "    'ideal_answer':\"\"\"\\\n",
        "Of course!  The SmartX ProPhone is a powerful \\\n",
        "smartphone with advanced camera features. \\\n",
        "For instance, it has a 12MP dual camera. \\\n",
        "Other features include 5G wireless and 128GB storage. \\\n",
        "It also has a 6.1-inch display.  The price is $899.99.\n",
        "\n",
        "The FotoSnap DSLR Camera is great for \\\n",
        "capturing stunning photos and videos. \\\n",
        "Some features include 1080p video, \\\n",
        "3-inch LCD, a 24.2MP sensor, \\\n",
        "and interchangeable lenses. \\\n",
        "The price is 599.99.\n",
        "\n",
        "For TVs and TV related products, we offer 3 TVs \\\n",
        "\n",
        "\n",
        "All TVs offer HDR and Smart TV.\n",
        "\n",
        "The CineView 4K TV has vibrant colors and smart features. \\\n",
        "Some of these features include a 55-inch display, \\\n",
        "'4K resolution. It's priced at 599.\n",
        "\n",
        "The CineView 8K TV is a stunning 8K TV. \\\n",
        "Some features include a 65-inch display and \\\n",
        "8K resolution.  It's priced at 2999.99\n",
        "\n",
        "The CineView OLED TV lets you experience vibrant colors. \\\n",
        "Some features include a 55-inch display and 4K resolution. \\\n",
        "It's priced at 1499.99.\n",
        "\n",
        "We also offer 2 home theater products, both which include bluetooth.\\\n",
        "The SoundMax Home Theater is a powerful home theater system for \\\n",
        "an immmersive audio experience.\n",
        "Its features include 5.1 channel, 1000W output, and wireless subwoofer.\n",
        "It's priced at 399.99.\n",
        "\n",
        "The SoundMax Soundbar is a sleek and powerful soundbar.\n",
        "It's features include 2.1 channel, 300W output, and wireless subwoofer.\n",
        "It's priced at 199.99\n",
        "\n",
        "Are there any questions additional you may have about these products \\\n",
        "that you mentioned here?\n",
        "Or may do you have other questions I can help you with?\n",
        "    \"\"\"\n",
        "}"
      ],
      "metadata": {
        "id": "aA83lrEsBeCy"
      },
      "execution_count": 12,
      "outputs": []
    },
    {
      "cell_type": "markdown",
      "source": [
        "# Check if the LLM's response agrees with or disagrees with the expert answer\n",
        "\n",
        "This evaluation prompt is from the [OpenAI](https://github.com/openai/evals/blob/main/evals/registry/modelgraded/fact.yaml) evals project.\n",
        "\n",
        "[BLEU](https://en.wikipedia.org/wiki/BLEU) score: another way to evaluate whether two pieces of text are similar or not."
      ],
      "metadata": {
        "id": "Oeb2ji_YBmCS"
      }
    },
    {
      "cell_type": "code",
      "source": [
        "def eval_vs_ideal(test_set, assistant_answer):\n",
        "\n",
        "    cust_msg = test_set['customer_msg']\n",
        "    ideal = test_set['ideal_answer']\n",
        "    completion = assistant_answer\n",
        "\n",
        "    system_message = \"\"\"\\\n",
        "    You are an assistant that evaluates how well the customer service agent \\\n",
        "    answers a user question by comparing the response to the ideal (expert) response\n",
        "    Output a single letter and nothing else.\n",
        "    \"\"\"\n",
        "\n",
        "    user_message = f\"\"\"\\\n",
        "You are comparing a submitted answer to an expert answer on a given question. Here is the data:\n",
        "    [BEGIN DATA]\n",
        "    ************\n",
        "    [Question]: {cust_msg}\n",
        "    ************\n",
        "    [Expert]: {ideal}\n",
        "    ************\n",
        "    [Submission]: {completion}\n",
        "    ************\n",
        "    [END DATA]\n",
        "\n",
        "Compare the factual content of the submitted answer with the expert answer. Ignore any differences in style, grammar, or punctuation.\n",
        "    The submitted answer may either be a subset or superset of the expert answer, or it may conflict with it. Determine which case applies. Answer the question by selecting one of the following options:\n",
        "    (A) The submitted answer is a subset of the expert answer and is fully consistent with it.\n",
        "    (B) The submitted answer is a superset of the expert answer and is fully consistent with it.\n",
        "    (C) The submitted answer contains all the same details as the expert answer.\n",
        "    (D) There is a disagreement between the submitted answer and the expert answer.\n",
        "    (E) The answers differ, but these differences don't matter from the perspective of factuality.\n",
        "  choice_strings: ABCDE\n",
        "\"\"\"\n",
        "\n",
        "    messages = [\n",
        "        {'role': 'system', 'content': system_message},\n",
        "        {'role': 'user', 'content': user_message}\n",
        "    ]\n",
        "\n",
        "    response = get_completion_from_messages(messages)\n",
        "    return response"
      ],
      "metadata": {
        "id": "E5DfgbzgB7Me"
      },
      "execution_count": 13,
      "outputs": []
    },
    {
      "cell_type": "code",
      "source": [
        "print(assistant_answer)"
      ],
      "metadata": {
        "colab": {
          "base_uri": "https://localhost:8080/"
        },
        "id": "oRcuEQnNCCgK",
        "outputId": "5ee7731c-7731-47bd-e97e-568e9735cdbd"
      },
      "execution_count": 14,
      "outputs": [
        {
          "output_type": "stream",
          "name": "stdout",
          "text": [
            "Sure, I'd be happy to help! The SmartX ProPhone is a powerful smartphone with a 6.1-inch display, 128GB storage, 12MP dual camera, and 5G capabilities. The FotoSnap DSLR Camera is a versatile camera with a 24.2MP sensor, 1080p video, 3-inch LCD, and interchangeable lenses. As for TVs, we have a variety of options including the CineView 4K TV with a 55-inch display, 4K resolution, HDR, and smart TV capabilities, the CineView 8K TV with a 65-inch display, 8K resolution, HDR, and smart TV capabilities, and the CineView OLED TV with a 55-inch display, 4K resolution, HDR, and smart TV capabilities. We also have the SoundMax Home Theater system with 5.1 channel, 1000W output, wireless subwoofer, and Bluetooth, and the SoundMax Soundbar with 2.1 channel, 300W output, wireless subwoofer, and Bluetooth. Is there anything else I can help you with?\n"
          ]
        }
      ]
    },
    {
      "cell_type": "code",
      "source": [
        "eval_vs_ideal(test_set_ideal, assistant_answer)"
      ],
      "metadata": {
        "colab": {
          "base_uri": "https://localhost:8080/",
          "height": 36
        },
        "id": "lk_g268wCF3i",
        "outputId": "b2246ca6-b71d-47f3-e326-eb364219e3b0"
      },
      "execution_count": 15,
      "outputs": [
        {
          "output_type": "execute_result",
          "data": {
            "text/plain": [
              "'A'"
            ],
            "application/vnd.google.colaboratory.intrinsic+json": {
              "type": "string"
            }
          },
          "metadata": {},
          "execution_count": 15
        }
      ]
    },
    {
      "cell_type": "code",
      "source": [
        "assistant_answer_2 = \"life is like a box of chocolates\""
      ],
      "metadata": {
        "id": "L6icS4ZTCHQA"
      },
      "execution_count": 16,
      "outputs": []
    },
    {
      "cell_type": "code",
      "source": [
        "eval_vs_ideal(test_set_ideal, assistant_answer_2)"
      ],
      "metadata": {
        "colab": {
          "base_uri": "https://localhost:8080/",
          "height": 36
        },
        "id": "b3PEFnSuCJ6n",
        "outputId": "53705ac7-5630-4851-e11e-03dbff02c6e4"
      },
      "execution_count": 17,
      "outputs": [
        {
          "output_type": "execute_result",
          "data": {
            "text/plain": [
              "'D'"
            ],
            "application/vnd.google.colaboratory.intrinsic+json": {
              "type": "string"
            }
          },
          "metadata": {},
          "execution_count": 17
        }
      ]
    }
  ]
}