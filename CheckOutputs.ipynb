{
  "nbformat": 4,
  "nbformat_minor": 0,
  "metadata": {
    "colab": {
      "provenance": [],
      "authorship_tag": "ABX9TyOfzCFdtwnRpAWsIR6n9HnD",
      "include_colab_link": true
    },
    "kernelspec": {
      "name": "python3",
      "display_name": "Python 3"
    },
    "language_info": {
      "name": "python"
    }
  },
  "cells": [
    {
      "cell_type": "markdown",
      "metadata": {
        "id": "view-in-github",
        "colab_type": "text"
      },
      "source": [
        "<a href=\"https://colab.research.google.com/github/hadagarcia/building-systems-chatGPT-api/blob/main/CheckOutputs.ipynb\" target=\"_parent\"><img src=\"https://colab.research.google.com/assets/colab-badge.svg\" alt=\"Open In Colab\"/></a>"
      ]
    },
    {
      "cell_type": "markdown",
      "source": [
        "**Setup:**"
      ],
      "metadata": {
        "id": "rPuUK8qz1qVI"
      }
    },
    {
      "cell_type": "code",
      "execution_count": null,
      "metadata": {
        "id": "X03FvQa71oH8"
      },
      "outputs": [],
      "source": [
        "!pip install openai\n",
        "!pip install python-dotenv"
      ]
    },
    {
      "cell_type": "code",
      "source": [
        "import openai\n",
        "import os\n",
        "from dotenv import load_dotenv, find_dotenv"
      ],
      "metadata": {
        "id": "4xeMBsDA1vhT"
      },
      "execution_count": 2,
      "outputs": []
    },
    {
      "cell_type": "code",
      "source": [
        "#Find a better way to store the key and retrieve it.\n",
        "load_dotenv('/content/sample_data/mis_llaves.env')\n",
        "openai.api_key = os.getenv('OPEN_API_KEY')"
      ],
      "metadata": {
        "id": "ETh38K93169P"
      },
      "execution_count": 3,
      "outputs": []
    },
    {
      "cell_type": "code",
      "source": [
        "# Helper method\n",
        "\n",
        "def get_completion_from_messages(messages, model=\"gpt-3.5-turbo\", temperature=0, max_tokens=500):\n",
        "    response = openai.ChatCompletion.create(\n",
        "        model=model,\n",
        "        messages=messages,\n",
        "        temperature=temperature,\n",
        "        max_tokens=max_tokens,\n",
        "    )\n",
        "    return response.choices[0].message[\"content\"]"
      ],
      "metadata": {
        "id": "0Afn0Kz92DWm"
      },
      "execution_count": 4,
      "outputs": []
    },
    {
      "cell_type": "markdown",
      "source": [
        "**We can think on 2 types to check for the output given in the previous Notebook.**\n",
        "\n",
        "\n",
        "\n",
        "1.   Check output for potentially harmful content\n",
        "2.   Check if output is factually based on the provided product information.\n",
        "\n"
      ],
      "metadata": {
        "id": "eZ-IWAc82IJb"
      }
    },
    {
      "cell_type": "markdown",
      "source": [
        "**1)** Check potentially harmful content using Moderation API from OpenAI\n",
        "\n",
        "If \"flagged\": true, then there would be a handling before sending the output to the user."
      ],
      "metadata": {
        "id": "XdBRVBez3EQm"
      }
    },
    {
      "cell_type": "code",
      "source": [
        "final_response_to_customer = f\"\"\"\n",
        "The SmartX ProPhone has a 6.1-inch display, 128GB storage, \\\n",
        "12MP dual camera, and 5G. The FotoSnap DSLR Camera \\\n",
        "has a 24.2MP sensor, 1080p video, 3-inch LCD, and \\\n",
        "interchangeable lenses. We have a variety of TVs, including \\\n",
        "the CineView 4K TV with a 55-inch display, 4K resolution, \\\n",
        "HDR, and smart TV features. We also have the SoundMax \\\n",
        "Home Theater system with 5.1 channel, 1000W output, wireless \\\n",
        "subwoofer, and Bluetooth. Do you have any specific questions \\\n",
        "about these products or any other products we offer?\n",
        "\"\"\"\n",
        "response = openai.Moderation.create(\n",
        "    input=final_response_to_customer\n",
        ")\n",
        "moderation_output = response[\"results\"][0]\n",
        "print(moderation_output)"
      ],
      "metadata": {
        "colab": {
          "base_uri": "https://localhost:8080/"
        },
        "id": "AorNc_E42h0c",
        "outputId": "9b3dde08-6e01-43fd-c737-3b48bdfc97d1"
      },
      "execution_count": 5,
      "outputs": [
        {
          "output_type": "stream",
          "name": "stdout",
          "text": [
            "{\n",
            "  \"flagged\": false,\n",
            "  \"categories\": {\n",
            "    \"sexual\": false,\n",
            "    \"hate\": false,\n",
            "    \"violence\": false,\n",
            "    \"self-harm\": false,\n",
            "    \"sexual/minors\": false,\n",
            "    \"hate/threatening\": false,\n",
            "    \"violence/graphic\": false\n",
            "  },\n",
            "  \"category_scores\": {\n",
            "    \"sexual\": 2.2455274e-06,\n",
            "    \"hate\": 4.3336598e-07,\n",
            "    \"violence\": 6.0600332e-06,\n",
            "    \"self-harm\": 2.8951988e-10,\n",
            "    \"sexual/minors\": 1.2425416e-08,\n",
            "    \"hate/threatening\": 5.640859e-10,\n",
            "    \"violence/graphic\": 4.518234e-07\n",
            "  }\n",
            "}\n"
          ]
        }
      ]
    },
    {
      "cell_type": "markdown",
      "source": [
        "**2)** Check if output is factually based on the provided product information.\n",
        "\n",
        "Normally this check is not strictly necessary, since most recent models already use some kind of verification. But it this checkup is strictly necessary to verify the quality of the outputs, just needs to be taken in consideration that it would imply more tokens thus it will be more expensive."
      ],
      "metadata": {
        "id": "n0qbp-ti3ZA1"
      }
    },
    {
      "cell_type": "code",
      "source": [
        "system_message = f\"\"\"\n",
        "You are an assistant that evaluates whether \\\n",
        "customer service agent responses sufficiently \\\n",
        "answer customer questions, and also validates that \\\n",
        "all the facts the assistant cites from the product \\\n",
        "information are correct.\n",
        "The product information and user and customer \\\n",
        "service agent messages will be delimited by \\\n",
        "3 backticks, i.e. ```.\n",
        "Respond with a Y or N character, with no punctuation:\n",
        "Y - if the output sufficiently answers the question \\\n",
        "AND the response correctly uses product information\n",
        "N - otherwise\n",
        "\n",
        "Output a single letter only.\n",
        "\"\"\"\n",
        "customer_message = f\"\"\"\n",
        "tell me about the smartx pro phone and \\\n",
        "the fotosnap camera, the dslr one. \\\n",
        "Also tell me about your tvs\"\"\"\n",
        "product_information = \"\"\"{ \"name\": \"SmartX ProPhone\", \"category\": \"Smartphones and Accessories\", \"brand\": \"SmartX\", \"model_number\": \"SX-PP10\", \"warranty\": \"1 year\", \"rating\": 4.6, \"features\": [ \"6.1-inch display\", \"128GB storage\", \"12MP dual camera\", \"5G\" ], \"description\": \"A powerful smartphone with advanced camera features.\", \"price\": 899.99 } { \"name\": \"FotoSnap DSLR Camera\", \"category\": \"Cameras and Camcorders\", \"brand\": \"FotoSnap\", \"model_number\": \"FS-DSLR200\", \"warranty\": \"1 year\", \"rating\": 4.7, \"features\": [ \"24.2MP sensor\", \"1080p video\", \"3-inch LCD\", \"Interchangeable lenses\" ], \"description\": \"Capture stunning photos and videos with this versatile DSLR camera.\", \"price\": 599.99 } { \"name\": \"CineView 4K TV\", \"category\": \"Televisions and Home Theater Systems\", \"brand\": \"CineView\", \"model_number\": \"CV-4K55\", \"warranty\": \"2 years\", \"rating\": 4.8, \"features\": [ \"55-inch display\", \"4K resolution\", \"HDR\", \"Smart TV\" ], \"description\": \"A stunning 4K TV with vibrant colors and smart features.\", \"price\": 599.99 } { \"name\": \"SoundMax Home Theater\", \"category\": \"Televisions and Home Theater Systems\", \"brand\": \"SoundMax\", \"model_number\": \"SM-HT100\", \"warranty\": \"1 year\", \"rating\": 4.4, \"features\": [ \"5.1 channel\", \"1000W output\", \"Wireless subwoofer\", \"Bluetooth\" ], \"description\": \"A powerful home theater system for an immersive audio experience.\", \"price\": 399.99 } { \"name\": \"CineView 8K TV\", \"category\": \"Televisions and Home Theater Systems\", \"brand\": \"CineView\", \"model_number\": \"CV-8K65\", \"warranty\": \"2 years\", \"rating\": 4.9, \"features\": [ \"65-inch display\", \"8K resolution\", \"HDR\", \"Smart TV\" ], \"description\": \"Experience the future of television with this stunning 8K TV.\", \"price\": 2999.99 } { \"name\": \"SoundMax Soundbar\", \"category\": \"Televisions and Home Theater Systems\", \"brand\": \"SoundMax\", \"model_number\": \"SM-SB50\", \"warranty\": \"1 year\", \"rating\": 4.3, \"features\": [ \"2.1 channel\", \"300W output\", \"Wireless subwoofer\", \"Bluetooth\" ], \"description\": \"Upgrade your TV's audio with this sleek and powerful soundbar.\", \"price\": 199.99 } { \"name\": \"CineView OLED TV\", \"category\": \"Televisions and Home Theater Systems\", \"brand\": \"CineView\", \"model_number\": \"CV-OLED55\", \"warranty\": \"2 years\", \"rating\": 4.7, \"features\": [ \"55-inch display\", \"4K resolution\", \"HDR\", \"Smart TV\" ], \"description\": \"Experience true blacks and vibrant colors with this OLED TV.\", \"price\": 1499.99 }\"\"\"\n",
        "q_a_pair = f\"\"\"\n",
        "Customer message: ```{customer_message}```\n",
        "Product information: ```{product_information}```\n",
        "Agent response: ```{final_response_to_customer}```\n",
        "\n",
        "Does the response use the retrieved information correctly?\n",
        "Does the response sufficiently answer the question\n",
        "\n",
        "Output Y or N\n",
        "\"\"\"\n",
        "\n",
        "messages = [\n",
        "    {'role': 'system', 'content': system_message},\n",
        "    {'role': 'user', 'content': q_a_pair}\n",
        "]\n",
        "\n",
        "response = get_completion_from_messages(messages, max_tokens=1)\n",
        "print(response)"
      ],
      "metadata": {
        "colab": {
          "base_uri": "https://localhost:8080/"
        },
        "id": "x-6O7jkM2__-",
        "outputId": "65322b01-c089-466a-c10c-4a746063b08e"
      },
      "execution_count": 6,
      "outputs": [
        {
          "output_type": "stream",
          "name": "stdout",
          "text": [
            "Y\n"
          ]
        }
      ]
    },
    {
      "cell_type": "code",
      "source": [
        "another_response = \"life is like a box of chocolates\"\n",
        "q_a_pair = f\"\"\"\n",
        "Customer message: ```{customer_message}```\n",
        "Product information: ```{product_information}```\n",
        "Agent response: ```{another_response}```\n",
        "\n",
        "Does the response use the retrieved information correctly?\n",
        "Does the response sufficiently answer the question?\n",
        "\n",
        "Output Y or N\n",
        "\"\"\"\n",
        "messages = [\n",
        "    {'role': 'system', 'content': system_message},\n",
        "    {'role': 'user', 'content': q_a_pair}\n",
        "]\n",
        "\n",
        "response = get_completion_from_messages(messages)\n",
        "print(response)"
      ],
      "metadata": {
        "colab": {
          "base_uri": "https://localhost:8080/"
        },
        "id": "qcBvHlW24RyW",
        "outputId": "66024f2a-43b7-4e2d-bc73-a873e8e0cbb5"
      },
      "execution_count": 7,
      "outputs": [
        {
          "output_type": "stream",
          "name": "stdout",
          "text": [
            "N\n"
          ]
        }
      ]
    }
  ]
}